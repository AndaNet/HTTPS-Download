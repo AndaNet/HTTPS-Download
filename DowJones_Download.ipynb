{
  "nbformat": 4,
  "nbformat_minor": 0,
  "metadata": {
    "colab": {
      "name": "DowJones Download.ipynb",
      "provenance": [],
      "collapsed_sections": [],
      "authorship_tag": "ABX9TyPwnovwNkMF7v/3iqjaOC4w",
      "include_colab_link": true
    },
    "kernelspec": {
      "display_name": "Python 3",
      "name": "python3"
    }
  },
  "cells": [
    {
      "cell_type": "markdown",
      "metadata": {
        "id": "view-in-github",
        "colab_type": "text"
      },
      "source": [
        "<a href=\"https://colab.research.google.com/github/javanmmu/javanmmu/blob/main/DowJones_Download.ipynb\" target=\"_parent\"><img src=\"https://colab.research.google.com/assets/colab-badge.svg\" alt=\"Open In Colab\"/></a>"
      ]
    },
    {
      "cell_type": "code",
      "metadata": {
        "id": "15gZzcLPYfo8",
        "colab": {
          "base_uri": "https://localhost:8080/"
        },
        "outputId": "11acbe6c-3813-4431-b451-5e108fc05aca"
      },
      "source": [
        "import requests\n",
        "import urllib\n",
        "import shutil\n",
        "\n",
        "rootUrl = 'https://pfafeed.factiva.com/xml/'\n",
        "fileList = []\n",
        "\n",
        "def get_Request(url):\n",
        "   r = requests.get(url, auth=(<username>,<password>),verify=True, stream=True)\n",
        "   return r\n",
        "\n",
        "def extract_files():\n",
        "   r = get_Request(rootUrl)\n",
        "   fileList= str(r.content).replace('b\\'', '').replace('\\\\n\\'', '').split(',')\n",
        "   \n",
        "\n",
        "\n",
        "def downloadFiles(fl) :\n",
        "  print('start download')\n",
        "  for ls in fl:\n",
        "   if \"_f_splits\" in ls:\n",
        "     newURL = rootUrl+ls\n",
        "     r = get_Request(newURL)\n",
        "     f = open(ls, 'wb')\n",
        "     f.write(r.content)\n",
        "     print(ls+' Completed downloading')\n",
        "     \n",
      
      ],
      "execution_count": null,
      "outputs": [
        {
          "output_type": "stream",
          "text": [
            "<Response [200]>\n",
            "['pfa2_202105092200_d.zip', 'pfa2_202105082200_i.zip', 'pfa2_202105082200_d.zip', 'pfa2_202105072200_d.zip', 'pfa2_202105062200_d.zip', 'pfa2_202105052200_d.zip', 'pfa2_202105042200_d.zip', 'pfa2_202105032200_d.zip', 'pfa2_202105022200_d.zip', 'pfa2_202105012200_d.zip', 'pfa2_202104302200_f_splits.zip', 'pfa2_202104302200_f.zip', 'pfa2_202104302200_i.zip', 'pfa2_202104302200_d.zip', 'pfa2_202104292200_d.zip', 'pfa2_202104282200_d.zip', 'pfa2_202104272200_d.zip', 'pfa2_202104262200_d.zip', 'pfa2_202104252200_d.zip', 'pfa2_202104242200_d.zip', 'pfa2_202104232200_d.zip', 'pfa2_202104222200_i.zip', 'pfa2_202104222200_d.zip', 'pfa2_202104212200_d.zip', 'pfa2_202104202200_d.zip', 'pfa2_202104192200_d.zip', 'pfa2_202104182200_d.zip', 'pfa2_202104172200_d.zip', 'pfa2_202104162200_d.zip', 'pfa2_202104152200_i.zip', 'pfa2_202104152200_d.zip', 'pfa2_202104142200_d.zip', 'pfa2_202104132200_d.zip', 'pfa2_202104122200_d.zip', 'pfa2_202104112200_d.zip', 'pfa2_202104102200_d.zip', 'pfa2_202104092200_d.zip', 'pfa2_202104082200_i.zip', 'pfa2_202104082200_d.zip', 'pfa2_202104072200_d.zip', 'pfa2_202104062200_d.zip', 'pfa2_202104052200_d.zip', 'pfa2_202104042200_d.zip', 'pfa2_202104032200_d.zip', 'pfa2_202104022200_d.zip', 'pfa2_202104012200_d.zip', 'pfa2_202103312200_f_splits.zip', 'pfa2_202103312200_f.zip', 'pfa2_202103312200_i.zip', 'pfa2_202103312200_d.zip', 'pfa2_202103302200_d.zip', 'pfa2_202103292200_d.zip', 'pfa2_202103282200_d.zip', 'pfa2_202103272200_d.zip', 'pfa2_202103262200_d.zip', 'pfa2_202103252200_d.zip', 'pfa2_202103242200_d.zip', 'pfa2_202103232200_d.zip', 'pfa2_202103222200_i.zip', 'pfa2_202103222200_d.zip', 'pfa2_202103212200_d.zip', 'pfa2_202103202200_d.zip', 'pfa2_202103192200_d.zip', 'pfa2_202103182200_d.zip', 'pfa2_202103172200_d.zip', 'pfa2_202103162200_d.zip', 'pfa2_202103152200_i.zip', 'pfa2_202103152200_d.zip', 'pfa2_202103142200_d.zip', 'pfa2_202103132200_d.zip', 'pfa2_202103122200_d.zip', 'pfa2_202103112200_d.zip', 'pfa2_202103102200_d.zip']\n",
            "start download\n",
            "pfa2_202104302200_f_splits.zip Completed downloading\n",
            "pfa2_202103312200_f_splits.zip Completed downloading\n"
          ],
          "name": "stdout"
        }
      ]
    },
    {
      "cell_type": "code",
      "metadata": {
        "colab": {
          "base_uri": "https://localhost:8080/"
        },
        "id": "OqDp4JIkPJ_L",
        "outputId": "4d06f484-3fd5-4d5c-bb98-f9f36761438b"
      },
      "source": [
        "!ls -ltr"
      ],
      "execution_count": null,
      "outputs": [
        {
          "output_type": "stream",
          "text": [
            "total 1166224\n",
            "drwxr-xr-x 1 root root      4096 May  6 13:44 sample_data\n",
            "-rw-r--r-- 1 root root 599442766 May 10 08:54 pfa2_202104302200_f_splits.zip\n",
            "-rw-r--r-- 1 root root 594753597 May 10 08:55 pfa2_202103312200_f_splits.zip\n"
          ],
          "name": "stdout"
        }
      ]
    },
    {
      "cell_type": "code",
      "metadata": {
        "colab": {
          "base_uri": "https://localhost:8080/"
        },
        "id": "tTgJhzRpxR-B",
        "outputId": "346e91d8-7a25-4002-a642-ef3164c44ef3"
      },
      "source": [
        "\n",
        "r = get_Request(rootUrl)\n",
        "fileList= str(r.content).replace('b\\'', '').replace('\\\\n\\'', '').split(',')\n",
        "get_Request(rootUrl)\n",
        "print(get_Request(rootUrl))\n",
        "extract_files();\n",
        "print(fileList)     \n",
        "downloadFiles(fileList) \n"
      ],
      "execution_count": null,
      "outputs": [
        {
          "output_type": "stream",
          "text": [
            "<Response [200]>\n",
            "['pfa2_202105092200_d.zip', 'pfa2_202105082200_i.zip', 'pfa2_202105082200_d.zip', 'pfa2_202105072200_d.zip', 'pfa2_202105062200_d.zip', 'pfa2_202105052200_d.zip', 'pfa2_202105042200_d.zip', 'pfa2_202105032200_d.zip', 'pfa2_202105022200_d.zip', 'pfa2_202105012200_d.zip', 'pfa2_202104302200_f_splits.zip', 'pfa2_202104302200_f.zip', 'pfa2_202104302200_i.zip', 'pfa2_202104302200_d.zip', 'pfa2_202104292200_d.zip', 'pfa2_202104282200_d.zip', 'pfa2_202104272200_d.zip', 'pfa2_202104262200_d.zip', 'pfa2_202104252200_d.zip', 'pfa2_202104242200_d.zip', 'pfa2_202104232200_d.zip', 'pfa2_202104222200_i.zip', 'pfa2_202104222200_d.zip', 'pfa2_202104212200_d.zip', 'pfa2_202104202200_d.zip', 'pfa2_202104192200_d.zip', 'pfa2_202104182200_d.zip', 'pfa2_202104172200_d.zip', 'pfa2_202104162200_d.zip', 'pfa2_202104152200_i.zip', 'pfa2_202104152200_d.zip', 'pfa2_202104142200_d.zip', 'pfa2_202104132200_d.zip', 'pfa2_202104122200_d.zip', 'pfa2_202104112200_d.zip', 'pfa2_202104102200_d.zip', 'pfa2_202104092200_d.zip', 'pfa2_202104082200_i.zip', 'pfa2_202104082200_d.zip', 'pfa2_202104072200_d.zip', 'pfa2_202104062200_d.zip', 'pfa2_202104052200_d.zip', 'pfa2_202104042200_d.zip', 'pfa2_202104032200_d.zip', 'pfa2_202104022200_d.zip', 'pfa2_202104012200_d.zip', 'pfa2_202103312200_f_splits.zip', 'pfa2_202103312200_f.zip', 'pfa2_202103312200_i.zip', 'pfa2_202103312200_d.zip', 'pfa2_202103302200_d.zip', 'pfa2_202103292200_d.zip', 'pfa2_202103282200_d.zip', 'pfa2_202103272200_d.zip', 'pfa2_202103262200_d.zip', 'pfa2_202103252200_d.zip', 'pfa2_202103242200_d.zip', 'pfa2_202103232200_d.zip', 'pfa2_202103222200_i.zip', 'pfa2_202103222200_d.zip', 'pfa2_202103212200_d.zip', 'pfa2_202103202200_d.zip', 'pfa2_202103192200_d.zip', 'pfa2_202103182200_d.zip', 'pfa2_202103172200_d.zip', 'pfa2_202103162200_d.zip', 'pfa2_202103152200_i.zip', 'pfa2_202103152200_d.zip', 'pfa2_202103142200_d.zip', 'pfa2_202103132200_d.zip', 'pfa2_202103122200_d.zip', 'pfa2_202103112200_d.zip', 'pfa2_202103102200_d.zip']\n",
            "start download\n",
            "pfa2_202104302200_f_splits.zip Completed downloading\n",
            "pfa2_202103312200_f_splits.zip Completed downloading\n"
          ],
          "name": "stdout"
        }
      ]
    }
  ]
}
